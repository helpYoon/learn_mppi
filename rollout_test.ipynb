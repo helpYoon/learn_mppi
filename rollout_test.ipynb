{
 "cells": [
  {
   "cell_type": "code",
   "execution_count": null,
   "metadata": {},
   "outputs": [],
   "source": [
    "import numpy as np\n",
    "import matplotlib.pyplot as plt\n",
    "import torch\n",
    "from models import dnn, lnn\n",
    "import gymnasium"
   ]
  },
  {
   "cell_type": "code",
   "execution_count": null,
   "metadata": {},
   "outputs": [],
   "source": [
    "torch.cuda.empty_cache()"
   ]
  },
  {
   "cell_type": "code",
   "execution_count": null,
   "metadata": {},
   "outputs": [],
   "source": [
    "env = gymnasium.make(\"Pendulum-v1\")"
   ]
  },
  {
   "cell_type": "code",
   "execution_count": null,
   "metadata": {},
   "outputs": [],
   "source": [
    "device = torch.device(\"cuda:0\")\n",
    "batch_size = 1\n",
    "n = 1"
   ]
  },
  {
   "cell_type": "code",
   "execution_count": null,
   "metadata": {},
   "outputs": [],
   "source": [
    "a_scale = torch.tensor([2.0], dtype=torch.double, device=device)\n",
    "a_scale"
   ]
  },
  {
   "cell_type": "code",
   "execution_count": null,
   "metadata": {},
   "outputs": [],
   "source": [
    "obs_size = env.observation_space.shape[0]\n",
    "action_size = env.action_space.shape[0]\n",
    "a_zeros = None\n",
    "with torch.no_grad():\n",
    "    dnn_model = dnn(obs_size, action_size).double().to(device)\n",
    "    lnn_model = lnn(env_name=\"pendulum\", n=1, obs_size=obs_size,action_size= action_size, dt=0.05, a_zeros= a_zeros).double().to(device)"
   ]
  },
  {
   "cell_type": "code",
   "execution_count": null,
   "metadata": {},
   "outputs": [],
   "source": [
    "print(dnn_model)"
   ]
  },
  {
   "cell_type": "code",
   "execution_count": null,
   "metadata": {},
   "outputs": [],
   "source": [
    "print(lnn_model)"
   ]
  },
  {
   "cell_type": "code",
   "execution_count": null,
   "metadata": {},
   "outputs": [],
   "source": [
    "# Load state dict to dnn\n",
    "dnn_model.load_state_dict(torch.load('dnn_49.ckpt')['transition_model'])\n",
    "lnn_model.load_state_dict(torch.load('lnn_99.ckpt')['transition_model'])"
   ]
  },
  {
   "cell_type": "code",
   "execution_count": null,
   "metadata": {},
   "outputs": [],
   "source": [
    "dnn_pred_os = []\n",
    "lnn_pred_os = []\n",
    "true_os = []\n",
    "\n",
    "o, _ = env.reset()\n",
    "o_tensor = torch.tensor(o, dtype=torch.float64, device=device).unsqueeze(0)\n",
    "\n",
    "# Save true observation\n",
    "dnn_pred_os.append(o_tensor)\n",
    "lnn_pred_os.append(o_tensor)\n",
    "true_os.append(o_tensor)\n",
    "\n",
    "# take random action\n",
    "a = np.random.uniform(-2.0, 2.0, size=action_size)\n",
    "a_tensor = (torch.tensor(a, dtype=torch.float64, device=device)*a_scale).unsqueeze(0)"
   ]
  },
  {
   "cell_type": "code",
   "execution_count": null,
   "metadata": {},
   "outputs": [],
   "source": [
    "# DNN precit next observation\n",
    "dnn_pred_o = dnn_model(o_tensor, a_tensor)\n",
    "print(dnn_pred_o)"
   ]
  },
  {
   "cell_type": "code",
   "execution_count": null,
   "metadata": {},
   "outputs": [],
   "source": [
    "# LNN predict next observation\n",
    "lnn_pred_o = lnn_model(o_tensor, a_tensor)\n",
    "print(lnn_pred_o)"
   ]
  },
  {
   "cell_type": "code",
   "execution_count": null,
   "metadata": {},
   "outputs": [],
   "source": [
    "o_t, r, done, _, _ = env.step(a)\n",
    "o_t_tensor = torch.tensor(o_t, dtype=torch.float64, device=device).unsqueeze(0)\n",
    "print(o_t_tensor)"
   ]
  },
  {
   "cell_type": "code",
   "execution_count": null,
   "metadata": {},
   "outputs": [],
   "source": [
    "dnn_pred_os.append(dnn_pred_o) \n",
    "lnn_pred_os.append(lnn_pred_o)\n",
    "true_os.append(o_t_tensor)"
   ]
  },
  {
   "cell_type": "code",
   "execution_count": null,
   "metadata": {},
   "outputs": [],
   "source": [
    "for _ in range(20):\n",
    "    # take new random action\n",
    "    a = np.random.uniform(-2.0, 2.0, size=action_size)\n",
    "    a_tensor = (torch.tensor(a, dtype=torch.float64, device=device)*a_scale).unsqueeze(0)\n",
    "\n",
    "    # ground truth transition\n",
    "    o_t, r, done, _, _ = env.step(a)\n",
    "    o_t_tensor = torch.tensor(o_t, dtype=torch.float64, device=device).unsqueeze(0)\n",
    "\n",
    "    # pred transition with dnn\n",
    "    dnn_pred_o = dnn_model(dnn_pred_o, a_tensor)\n",
    "    \n",
    "    # pred transition with lnn\n",
    "    lnn_pred_o = lnn_model(lnn_pred_o, a_tensor)\n",
    "    \n",
    "    dnn_pred_os.append(dnn_pred_o)\n",
    "    lnn_pred_os.append(lnn_pred_o)\n",
    "    true_os.append(o_t_tensor)"
   ]
  },
  {
   "cell_type": "code",
   "execution_count": null,
   "metadata": {},
   "outputs": [],
   "source": [
    "dnn_error = []\n",
    "lnn_error = []\n",
    "for dnn, lnn, true in zip(dnn_pred_os, lnn_pred_os, true_os):\n",
    "    dnn_error.append(torch.abs(dnn-true).sum().cpu().detach().numpy())\n",
    "    lnn_error.append(torch.abs(lnn-true).sum().cpu().detach().numpy())"
   ]
  },
  {
   "cell_type": "code",
   "execution_count": null,
   "metadata": {},
   "outputs": [],
   "source": [
    "plt.plot(dnn_error, label='DNN Error')\n",
    "plt.plot(lnn_error, label='LNN Error')\n",
    "\n",
    "plt.xlabel('Time Step')\n",
    "plt.ylabel('Error')\n",
    "plt.legend()\n",
    "plt.show()"
   ]
  },
  {
   "cell_type": "code",
   "execution_count": null,
   "metadata": {},
   "outputs": [],
   "source": [
    "# Data for the bar chart\n",
    "labels = ['DNN', 'LNN', 'Ground Truth']\n",
    "values = [-248, -246, -123]\n",
    "\n",
    "# Set the color for each bar\n",
    "colors = ['#1f77b4', '#ff7f0e', '#2ca02c']\n",
    "\n",
    "# Create the bar chart with improved aesthetics\n",
    "plt.figure(figsize=(10, 6))\n",
    "bars = plt.bar(labels, values, color=colors)\n",
    "\n",
    "# Add title and labels with a larger font for better readability\n",
    "plt.title('Comparison of Total Reward Across Models', fontsize=16)\n",
    "plt.xlabel('Model', fontsize=14)\n",
    "plt.ylabel('Total Reward', fontsize=14)\n",
    "\n",
    "# Change the style of the axes for a cleaner look\n",
    "plt.grid(axis='y', linestyle='--', alpha=0.7)\n",
    "plt.gca().spines['top'].set_visible(False)\n",
    "plt.gca().spines['right'].set_visible(False)\n",
    "plt.gca().spines['left'].set_color('gray')\n",
    "plt.gca().spines['left'].set_linewidth(0.5)\n",
    "plt.gca().spines['bottom'].set_color('gray')\n",
    "plt.gca().spines['bottom'].set_linewidth(0.5)\n",
    "\n",
    "# Add a light background color\n",
    "plt.gca().set_facecolor('#f5f5f5')\n",
    "\n",
    "# Add value labels on top of each bar\n",
    "for bar in bars:\n",
    "    yval = bar.get_height()\n",
    "    plt.text(bar.get_x() + bar.get_width()/2, yval + 5, round(yval, 1), \n",
    "             ha='center', va='bottom', fontsize=12)\n",
    "\n",
    "# Show the bar chart with a tight layout to ensure everything fits well\n",
    "plt.tight_layout()\n",
    "plt.show()"
   ]
  },
  {
   "cell_type": "code",
   "execution_count": null,
   "metadata": {},
   "outputs": [],
   "source": []
  }
 ],
 "metadata": {
  "kernelspec": {
   "display_name": "mppi",
   "language": "python",
   "name": "python3"
  },
  "language_info": {
   "codemirror_mode": {
    "name": "ipython",
    "version": 3
   },
   "file_extension": ".py",
   "mimetype": "text/x-python",
   "name": "python",
   "nbconvert_exporter": "python",
   "pygments_lexer": "ipython3",
   "version": "3.9.18"
  }
 },
 "nbformat": 4,
 "nbformat_minor": 2
}
